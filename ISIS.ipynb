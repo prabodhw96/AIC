{
 "cells": [
  {
   "cell_type": "code",
   "execution_count": 37,
   "metadata": {
    "_cell_guid": "d34a27bd-e978-42c7-9ed0-42c44585a221"
   },
   "outputs": [],
   "source": [
    "import pandas as pd\n",
    "import csv\n",
    "import os\n",
    "import numpy\n",
    "import copy\n",
    "%matplotlib inline\n",
    "import numpy as np\n",
    "import seaborn as sns\n",
    "import re\n",
    "from sklearn.feature_extraction.text import TfidfVectorizer, CountVectorizer\n",
    "from gensim import corpora, models, similarities, matutils\n",
    "from gensim.corpora.dictionary import Dictionary\n",
    "from sklearn.cluster import DBSCAN\n",
    "from sklearn.decomposition import NMF, PCA\n",
    "import matplotlib as mpl\n",
    "import matplotlib.pyplot as plt\n",
    "from collections import Counter, defaultdict, OrderedDict\n",
    "import seaborn as sns\n",
    "import matplotlib.pyplot as plt"
   ]
  },
  {
   "cell_type": "code",
   "execution_count": 38,
   "metadata": {
    "_cell_guid": "aa1d0b37-2184-4b53-bc16-f6347b491f16"
   },
   "outputs": [],
   "source": [
    "#plotting params\n",
    "mpl.rcParams['figure.figsize'] = (8,5)\n",
    "mpl.rcParams['lines.linewidth'] = 3\n",
    "plt.style.use('ggplot')"
   ]
  },
  {
   "cell_type": "markdown",
   "metadata": {
    "_cell_guid": "5faa953b-72ee-4b91-bb66-a8a0c32035c1"
   },
   "source": [
    "# Load ISIS data set and clean tweets"
   ]
  },
  {
   "cell_type": "code",
   "execution_count": 39,
   "metadata": {
    "_cell_guid": "a3e5ef24-6dfa-4e41-8e86-936c8c337329"
   },
   "outputs": [],
   "source": [
    "df = pd.read_csv(\"input/tweets.csv\", parse_dates= [6])\n",
    "df.username = df.username.str.lower()"
   ]
  },
  {
   "cell_type": "code",
   "execution_count": 40,
   "metadata": {
    "_cell_guid": "d6cfff27-a30c-4114-8154-46c53882890d"
   },
   "outputs": [],
   "source": [
    "import re\n",
    " \n",
    "emoticons_str = r\"\"\"\n",
    "    (?:\n",
    "        [:=;] # Eyes\n",
    "        [oO\\-]? # Nose (optional)\n",
    "        [D\\)\\]\\(\\]/\\\\OpP] # Mouth\n",
    "    )\"\"\"\n",
    " \n",
    "regex_str = [\n",
    "    emoticons_str,\n",
    "    r'<[^>]+>', # HTML tags\n",
    "    r'(?:@[\\w_]+)', # @-mentions\n",
    "    r\"(?:\\#+[\\w_]+[\\w\\'_\\-]*[\\w_]+)\", # hash-tags\n",
    "    r'http[s]?://(?:[a-z]|[0-9]|[$-_@.&+]|[!*\\(\\),]|(?:%[0-9a-f][0-9a-f]))+', # URLs\n",
    " \n",
    "    r'(?:(?:\\d+,?)+(?:\\.?\\d+)?)', # numbers\n",
    "    r\"(?:[a-z][a-z'\\-_]+[a-z])\", # words with - and '\n",
    "    r'(?:[\\w_]+)', # other words\n",
    "    r'(?:\\S)' # anything else\n",
    "]\n",
    "    \n",
    "tokens_re = re.compile(r'('+'|'.join(regex_str)+')', re.VERBOSE | re.IGNORECASE)\n",
    "emoticon_re = re.compile(r'^'+emoticons_str+'$', re.VERBOSE | re.IGNORECASE)\n",
    " \n",
    "def tokenize(s):\n",
    "    return tokens_re.findall(s)\n",
    " \n",
    "def preprocess(s, lowercase=False):\n",
    "    tokens = tokenize(s)\n",
    "    if lowercase:\n",
    "        tokens = [token if emoticon_re.search(token) else token.lower() for token in tokens]\n",
    "    return tokens"
   ]
  },
  {
   "cell_type": "code",
   "execution_count": 41,
   "metadata": {
    "_cell_guid": "37a31a21-5d69-4e5a-ba7e-9a13968861d0"
   },
   "outputs": [],
   "source": [
    "def clean_tweet(tweet):\n",
    "    ext = \"http\"\n",
    "    text = tweet[:tweet.find(ext)].lower()\n",
    "    text = re.sub(\"[^\\S]\", \" \", text)\n",
    "    text = re.sub(\"english translation \", \"\", text)\n",
    "    textOnly = re.sub(\"[^a-zA-Z0-9@# ]\", \"\", text)\n",
    "    return(textOnly)"
   ]
  },
  {
   "cell_type": "code",
   "execution_count": 42,
   "metadata": {
    "_cell_guid": "2a3ae3bf-f8a4-4f11-a5e8-238a4f1cfa87"
   },
   "outputs": [],
   "source": [
    "def remove_users(tweet):\n",
    "    text = tweet.lower()\n",
    "    textOnly = re.sub(r\"@\\w+\", \"\", text)\n",
    "    return(textOnly)"
   ]
  },
  {
   "cell_type": "code",
   "execution_count": 43,
   "metadata": {
    "_cell_guid": "e7e13c80-305e-4e3a-9820-ce8e5d712bf7"
   },
   "outputs": [],
   "source": [
    "df.tweets = df.tweets.apply(clean_tweet)"
   ]
  },
  {
   "cell_type": "markdown",
   "metadata": {
    "_cell_guid": "019cbf9d-34b1-41f1-af05-f0e2772abb98"
   },
   "source": [
    "Currently we have occurences of usernames (twitter handles) in all tweets (original tweets and mentions). We only want original tweets so we can determine who is having an influence on who. This does not mean that we should remove all retweets, but rather extract those retweets and treat them as new tweets from new users. \n",
    "\n",
    "1. We would like to extract every retweet from a given user and reassign that tweet to the first handle in that text string.\n",
    "\n",
    "    - For example: \"RT @GIIMedia_CH004: Rules Of Imarah Part2 - Conditions of Imamah\" would create@GIIMedia_CH004 as a new user and assign everything after his/her handle in the text string as a tweet for that user.\n",
    " \n",
    "2. We need to create a dictionary for every user with,\n",
    "     - every user they have mentioned (affiliates),\n",
    "     - every hashtag they have used and\n",
    "     - every tweet they've sent\n",
    "\n",
    "3. consolidate every tweet for every user into one document and add it to their dictionary"
   ]
  },
  {
   "cell_type": "code",
   "execution_count": 44,
   "metadata": {
    "_cell_guid": "983f28fe-e0e4-4a75-8070-70ab4f76a8b5"
   },
   "outputs": [],
   "source": [
    "infoDict = OrderedDict()\n",
    "for r in df[['username','tweets']].iterrows():\n",
    "    match = re.search('^rt', r[1][1])\n",
    "    if match:\n",
    "        m = list(re.findall(r\"@\\w+\", r[1][1]))\n",
    "        if m:\n",
    "            username=m[0][1:]\n",
    "            tweet=r[1][1][len('rt ' + m[0]):] +' @' + r[1][0]\n",
    "    else:\n",
    "        username=r[1][0]\n",
    "        tweet=r[1][1]\n",
    "    if username not in infoDict:\n",
    "        user = {}\n",
    "        user['affil'] = []\n",
    "        user['hashtags'] = []\n",
    "        user['tweets'] = []\n",
    "        user['doc'] = ''\n",
    "        infoDict[username] = user\n",
    "    if tweet not in infoDict[username]['tweets']:\n",
    "        infoDict[username]['tweets'].append(tweet)\n",
    "        infoDict[username]['doc']+=' ' + tweet\n",
    "    infoDict[username]['hashtags'].extend(re.findall('(?<=#)\\w+', tweet))\n",
    "    infoDict[username]['affil'].extend(re.findall('(?<=@)\\w+', tweet))"
   ]
  },
  {
   "cell_type": "code",
   "execution_count": 45,
   "metadata": {
    "_cell_guid": "497fbde2-df35-4a16-979b-907b09386161"
   },
   "outputs": [
    {
     "name": "stdout",
     "output_type": "stream",
     "text": [
      "We went from 112 unique users to 1556 users\n"
     ]
    }
   ],
   "source": [
    "print('We went from 112 unique users to', len(infoDict), 'users') "
   ]
  },
  {
   "cell_type": "markdown",
   "metadata": {
    "_cell_guid": "44ba99e5-34c0-4b7e-bfa2-b87924fbc571"
   },
   "source": [
    "### Treat all the tweets from one user as a single document and vectorize\n"
   ]
  },
  {
   "cell_type": "code",
   "execution_count": 46,
   "metadata": {
    "_cell_guid": "ad2b1661-0dfa-4f15-9ab3-603c472ba106"
   },
   "outputs": [],
   "source": [
    "docs = [remove_users(v['doc']) for k, v in infoDict.items()]"
   ]
  },
  {
   "cell_type": "code",
   "execution_count": 47,
   "metadata": {
    "_cell_guid": "43878bb6-c172-46b1-8553-28eccbe51d5a"
   },
   "outputs": [],
   "source": [
    "Tfidf_vectorizer = TfidfVectorizer(analyzer='word', tokenizer=tokenize,\n",
    "                                  ngram_range=(1,1), stop_words='english',\n",
    "                                  token_pattern='\\\\b[a-z][a-z]+\\\\b')\n",
    "tfidf_docs = Tfidf_vectorizer.fit_transform(docs)"
   ]
  },
  {
   "cell_type": "code",
   "execution_count": 48,
   "metadata": {
    "_cell_guid": "fd07a3e7-7b8e-451c-b274-b1d8c6ce531e"
   },
   "outputs": [],
   "source": [
    "count_vectorizer = CountVectorizer(analyzer='word',\n",
    "                                  ngram_range=(1,3), stop_words='english',\n",
    "                                  token_pattern='\\\\b[a-z][a-z]+\\\\b')\n",
    "cv_tweets = count_vectorizer.fit_transform(docs)"
   ]
  },
  {
   "cell_type": "code",
   "execution_count": 49,
   "metadata": {
    "_cell_guid": "90fdb686-d642-4eef-a9d0-81ab07dad74e"
   },
   "outputs": [],
   "source": [
    "#treat each tweets seperately\n",
    "Tfidf_vectorizer = TfidfVectorizer(analyzer='word', tokenizer=tokenize,\n",
    "                                  ngram_range=(1,2), stop_words='english',\n",
    "                                  token_pattern='\\\\b[a-z][a-z]+\\\\b')\n",
    "tfidf_tweets = Tfidf_vectorizer.fit_transform(df.tweets)"
   ]
  },
  {
   "cell_type": "markdown",
   "metadata": {
    "_cell_guid": "fb1b7c45-c291-4d4b-9978-f5e99c343cca"
   },
   "source": [
    "----"
   ]
  },
  {
   "cell_type": "code",
   "execution_count": 50,
   "metadata": {
    "_cell_guid": "abdb2acc-7d65-4e32-b9ab-aea8d5fcc21d"
   },
   "outputs": [],
   "source": [
    "from sklearn.utils.extmath import randomized_svd\n",
    "U, Sigma, VT = randomized_svd(tfidf_docs, n_components=15,\n",
    "                                      n_iter=5,\n",
    "                                      random_state=None)"
   ]
  },
  {
   "cell_type": "code",
   "execution_count": 51,
   "metadata": {
    "_cell_guid": "8da14002-d774-483e-85ae-c8fc438cc119"
   },
   "outputs": [],
   "source": [
    "sigma = []\n",
    "for k,v in enumerate(Sigma):\n",
    "    sigma.append((k,v))"
   ]
  },
  {
   "cell_type": "code",
   "execution_count": 52,
   "metadata": {
    "_cell_guid": "04252ea8-d35f-4f01-ad3b-fc6d376347c6"
   },
   "outputs": [
    {
     "data": {
      "image/png": "[encoded data removed]",
      "text/plain": [
       "<Figure size 576x360 with 1 Axes>"
      ]
     },
     "metadata": {},
     "output_type": "display_data"
    }
   ],
   "source": [
    "f = plt.scatter(*zip(*sigma))"
   ]
  },
  {
   "cell_type": "markdown",
   "metadata": {
    "_cell_guid": "3e437a57-30fa-4359-8024-3c69a264b9e7"
   },
   "source": [
    "Based on the sigma values from the resulting matrix we can choose about 6 components to use in our NMF model"
   ]
  },
  {
   "cell_type": "markdown",
   "metadata": {
    "_cell_guid": "20a2c70f-ce64-4ead-8eac-c13cfd304aee"
   },
   "source": [
    "### NMF decomposition\n"
   ]
  },
  {
   "cell_type": "code",
   "execution_count": 53,
   "metadata": {
    "_cell_guid": "eb36f8d1-d021-47cc-b48f-1c12653981bb"
   },
   "outputs": [
    {
     "data": {
      "text/plain": [
       "(1556, 22480)"
      ]
     },
     "execution_count": 53,
     "metadata": {},
     "output_type": "execute_result"
    }
   ],
   "source": [
    "tfidf_docs.shape"
   ]
  },
  {
   "cell_type": "code",
   "execution_count": 54,
   "metadata": {
    "_cell_guid": "29c9c5d4-fb59-4274-9a35-1c0492bb6e39"
   },
   "outputs": [],
   "source": [
    "num_topics = 6\n",
    "model = NMF(n_components=num_topics, init='random', random_state=0)\n",
    "nmf = model.fit_transform(tfidf_docs)"
   ]
  },
  {
   "cell_type": "code",
   "execution_count": 55,
   "metadata": {
    "_cell_guid": "de7d2f28-9f75-4e19-9a5f-1b247091b5f1"
   },
   "outputs": [],
   "source": [
    "doc_cluster = [list(r).index(max(r)) for r in nmf]"
   ]
  },
  {
   "cell_type": "code",
   "execution_count": 56,
   "metadata": {
    "_cell_guid": "ef6c95e5-bee6-4580-9646-0f69466f0eeb"
   },
   "outputs": [
    {
     "name": "stdout",
     "output_type": "stream",
     "text": [
      "[1, 3, 0, 1, 1, 2, 0, 4, 0, 1, 3, 0, 4, 4, 1, 1, 4, 0, 4, 1]\n",
      "[0, 3, 1, 1, 1, 1, 4, 1, 0, 3, 2, 1, 0, 1, 1, 2, 4, 3, 4]\n",
      "[3, 1, 1, 2, 2, 1, 3, 0, 2, 3, 1, 0, 1, 5, 1, 3, 3, 4, 1]\n",
      "[1, 0, 3, 0, 0, 2, 2, 0, 0, 0, 3, 0, 3, 3, 3, 3, 0, 3, 3, 2]\n"
     ]
    }
   ],
   "source": [
    "print (doc_cluster[0:20])\n",
    "print (doc_cluster[41:60])\n",
    "print (doc_cluster[61:80])\n",
    "print( doc_cluster[-40:-20])"
   ]
  },
  {
   "cell_type": "code",
   "execution_count": 57,
   "metadata": {
    "_cell_guid": "7b525fd7-29d4-4afb-9692-5eb890716ca9"
   },
   "outputs": [
    {
     "data": {
      "text/plain": [
       "[237, 565, 154, 361, 165, 74]"
      ]
     },
     "execution_count": 57,
     "metadata": {},
     "output_type": "execute_result"
    }
   ],
   "source": [
    "cluster_size = [0,0,0,0,0,0]\n",
    "for v in doc_cluster:\n",
    "    cluster_size[v]+=1\n",
    "cluster_size"
   ]
  },
  {
   "cell_type": "code",
   "execution_count": 58,
   "metadata": {
    "_cell_guid": "7cb5990d-fffd-4cfc-9f3a-a086317431e5"
   },
   "outputs": [],
   "source": [
    "data = pd.DataFrame(infoDict).T\n",
    "data.reset_index(inplace=True)\n",
    "data['cluster'] = doc_cluster"
   ]
  },
  {
   "cell_type": "code",
   "execution_count": 59,
   "metadata": {
    "_cell_guid": "d752490a-2c62-48fd-ac37-73b867776193"
   },
   "outputs": [],
   "source": [
    "# create dictionary that maps a user to their specific cluster\n",
    "user_docs = {}\n",
    "for k, cluster in enumerate(doc_cluster):\n",
    "    user_docs[data['index'][k]] = cluster"
   ]
  },
  {
   "cell_type": "code",
   "execution_count": 60,
   "metadata": {
    "_cell_guid": "a512201d-b971-42da-9b9c-516be634c7df"
   },
   "outputs": [],
   "source": [
    "words = sorted([(i,v) for v,i in Tfidf_vectorizer.vocabulary_.items()])\n",
    "topic_words = []\n",
    "for r in model.components_:\n",
    "    a = sorted([(v,i) for i,v in enumerate(r)],reverse=True)[0:7]\n",
    "    topic_words.append([words[e[1]] for e in a])"
   ]
  },
  {
   "cell_type": "code",
   "execution_count": 61,
   "metadata": {
    "_cell_guid": "76a4cb2b-d682-40a3-b12f-b187e1d2afc4"
   },
   "outputs": [
    {
     "name": "stderr",
     "output_type": "stream",
     "text": [
      "C:\\Users\\Prabodh\\Anaconda2\\envs\\tensorflow\\lib\\site-packages\\ipykernel_launcher.py:8: RuntimeWarning: invalid value encountered in double_scalars\n",
      "  \n"
     ]
    }
   ],
   "source": [
    "# Create the a list of topic words but only inlude them if they are the highest among all clusters\n",
    "# they also need to be weighted appropriately within their cluster\n",
    "\n",
    "\n",
    "word_cluster = [(list(r).index(max(r)),max(r)) for r in model.components_.transpose()]\n",
    "for i,r in enumerate(model.components_.transpose()):\n",
    "    s = sorted(r)\n",
    "    if (s[0]-s[1])/s[1]<0.25:\n",
    "        word_cluster[i] = (-1,-1)\n",
    "topic_words = []\n",
    "for c in range(6):\n",
    "    a = sorted([(v[1],i) for i,v in enumerate(word_cluster) if v[0]==c], reverse=True)[0:7]\n",
    "    topic_words.append([words[e[1]] for e in a])"
   ]
  },
  {
   "cell_type": "code",
   "execution_count": 62,
   "metadata": {
    "_cell_guid": "e1a008f8-23a9-4e62-8600-3125bed8c71c"
   },
   "outputs": [
    {
     "data": {
      "text/plain": [
       "[[(982, '#aqsa meet'),\n",
       "  (950, '#april'),\n",
       "  (193, '#advance'),\n",
       "  (419, '#aleppo lord'),\n",
       "  (2698, '#fallujah #teenchoice'),\n",
       "  (13810, '@1oeufquiparle reel'),\n",
       "  (689, '#amaq 1300')],\n",
       " [(3747, '#iraq town'),\n",
       "  (9718, '#wilayatalkhayr maryrdom'),\n",
       "  (14719, '@adelani0la yes'),\n",
       "  (8358, '#sultans'),\n",
       "  (14708, '@adamks'),\n",
       "  (12580, '38 mention'),\n",
       "  (11920, '23 5')],\n",
       " [(19481, '@kesisygegum remember'),\n",
       "  (11926, '23 days'),\n",
       "  (3919, '#is assad'),\n",
       "  (12834, '44'),\n",
       "  (14092, '@a5barsy1'),\n",
       "  (13223, '6 soldiers'),\n",
       "  (22001, '@osamahfakih explosions')],\n",
       " [(12708, '4 siege'),\n",
       "  (11902, '221'),\n",
       "  (20607, '@mehdith2'),\n",
       "  (19968, '@lightepisodesss'),\n",
       "  (5892, '#lybia expanding'),\n",
       "  (22334, '@proj000 subhanallah'),\n",
       "  (4698, '#isis tanf')],\n",
       " [(1886, '#brussels attac'),\n",
       "  (961, '#aqap fled'),\n",
       "  (108, '#aamaq #lebanon'),\n",
       "  (267, '#aircraft'),\n",
       "  (1645, '#breaking 11'),\n",
       "  (1467, '#basra #iraq'),\n",
       "  (935, '#ansardine')],\n",
       " [(0, '#'),\n",
       "  (2261, '#daraa city'),\n",
       "  (9, '# 1'),\n",
       "  (15304, '@alperboler'),\n",
       "  (2479, '#down'),\n",
       "  (18424, '@ibnunoran8 @wilayathalab'),\n",
       "  (4573, '#isis offering')]]"
      ]
     },
     "execution_count": 62,
     "metadata": {},
     "output_type": "execute_result"
    }
   ],
   "source": [
    "topic_words"
   ]
  },
  {
   "cell_type": "markdown",
   "metadata": {
    "_cell_guid": "0ae08671-b48a-4dc1-982d-ec73597afa7b"
   },
   "source": [
    "---"
   ]
  },
  {
   "cell_type": "markdown",
   "metadata": {
    "_cell_guid": "8eeaaf94-b55c-4993-a44e-5d1d1922e3a9"
   },
   "source": [
    "## Creating Graph"
   ]
  },
  {
   "cell_type": "code",
   "execution_count": 63,
   "metadata": {
    "_cell_guid": "49cb9713-3f34-4f74-8d0d-3d9279c836cc"
   },
   "outputs": [],
   "source": [
    "def is_retweet(tweet):\n",
    "    match = re.search('^rt', tweet)\n",
    "    if match:\n",
    "        return True\n",
    "    return False\n",
    "\n",
    "def check_string(string):\n",
    "    return string in df.username.unique()"
   ]
  },
  {
   "cell_type": "code",
   "execution_count": 64,
   "metadata": {
    "_cell_guid": "f85ada27-4e75-47f3-b1bc-77c1cbf65f92"
   },
   "outputs": [
    {
     "data": {
      "text/plain": [
       "5824"
      ]
     },
     "execution_count": 64,
     "metadata": {},
     "output_type": "execute_result"
    }
   ],
   "source": [
    "# number of retweets\n",
    "\n",
    "count=0\n",
    "rt = []\n",
    "for tweet in df.tweets:\n",
    "    m = re.findall(r\"^rt @\", tweet)\n",
    "    if m:\n",
    "        count+=1\n",
    "        rt.append(tweet)\n",
    "count\n",
    "#len(set(rt))"
   ]
  },
  {
   "cell_type": "code",
   "execution_count": 65,
   "metadata": {
    "_cell_guid": "7243e8b4-14d3-455b-9cf5-8c1fc6d97056"
   },
   "outputs": [],
   "source": [
    "# create the nodes for the graph. Dictionary keys as usernames \n",
    "# with each item in the value list being a connection with number of times mentioned\n",
    "# NOTE!! this is for every mentioned user\n",
    "\n",
    "nodes = defaultdict(str)\n",
    "for K, V in infoDict.items():\n",
    "    nodes[K] = [(k, v) for k,v in Counter(list(V['affil'])).items() if k != K]\n",
    "for k, v in list(nodes.items()):\n",
    "    if not v:\n",
    "        del nodes[k]"
   ]
  },
  {
   "cell_type": "code",
   "execution_count": 66,
   "metadata": {
    "_cell_guid": "6b9f2d3a-7d64-4771-80ec-a8abd85e4ad5"
   },
   "outputs": [],
   "source": [
    "matches = 0\n",
    "for k, v in list(nodes.items()):\n",
    "    if not v:\n",
    "        del nodes[k]\n",
    "        \n",
    "    for i in range(len(v)):\n",
    "        if v[i][0] == k:\n",
    "            matches+=1\n",
    "            v.remove(v[i])"
   ]
  },
  {
   "cell_type": "code",
   "execution_count": 67,
   "metadata": {
    "_cell_guid": "314229aa-3145-4eef-bba9-926baf4f9033"
   },
   "outputs": [],
   "source": [
    "#create dictionary that maps usernames to a uniqe ID and the cluster they belong to\n",
    "# user_docs = a list of documents per user\n",
    "\n",
    "ID = defaultdict()\n",
    "for k, v in enumerate(list(nodes.items())):\n",
    "    ID[v[0]] = k, user_docs[v[0]]\n",
    "    for i in range(0, len(v[1])):\n",
    "        try:\n",
    "            ID[v[1][i][0]] = k, user_docs[v[1][i][0]]\n",
    "        except:\n",
    "            pass"
   ]
  },
  {
   "cell_type": "code",
   "execution_count": 68,
   "metadata": {
    "_cell_guid": "f7c82aa4-10e4-4ee4-9b4f-2f5bc692ee9a"
   },
   "outputs": [],
   "source": [
    "df2 = pd.DataFrame(ID).T\n",
    "# save the nodes as a csv\n",
    "pd.DataFrame(ID).T.to_csv('nodes3.csv')"
   ]
  },
  {
   "cell_type": "code",
   "execution_count": 69,
   "metadata": {
    "_cell_guid": "577a30fb-acda-4d2e-87ff-cec15988ffd6"
   },
   "outputs": [],
   "source": [
    "# create dict with a source, target tied to a weight\n",
    "edge_dict = {}\n",
    "for k, v in nodes.items():\n",
    "    for i in range(len(v)):\n",
    "        try:\n",
    "            edge_dict[ID[[k][0]][0], ID[v[i][0]][0]] = v[i][1]\n",
    "        except:\n",
    "            pass"
   ]
  },
  {
   "cell_type": "code",
   "execution_count": 70,
   "metadata": {
    "_cell_guid": "7278c694-5fd7-42a8-9a02-a1a05729b26f"
   },
   "outputs": [],
   "source": [
    "# save edges as a csv\n",
    "pd.DataFrame([[k[0],k[1],v] for k, v in edge_dict.items()]).to_csv('edges3.csv')"
   ]
  },
  {
   "cell_type": "markdown",
   "metadata": {
    "_cell_guid": "8a8f2216-6982-4d5f-be39-686f628ee213"
   },
   "source": [
    "Output from nodes and edges extraction were saved as csv files.\n",
    "\n",
    "Output was then used in a graphing tool called Gephi. \n",
    "\n",
    "The results can be viewed at http://app.patricknieto.com"
   ]
  },
  {
   "cell_type": "markdown",
   "metadata": {
    "_cell_guid": "5c157f69-9fdc-4227-addc-266727c44c06"
   },
   "source": [
    "---"
   ]
  },
  {
   "cell_type": "markdown",
   "metadata": {
    "_cell_guid": "762ce538-7c1d-42dc-a91b-a7787e0b25bf"
   },
   "source": [
    "## Time series analysis of all tweets grouped by day"
   ]
  },
  {
   "cell_type": "code",
   "execution_count": 71,
   "metadata": {
    "_cell_guid": "26835250-db30-4a5b-ba2c-90185eac4061"
   },
   "outputs": [
    {
     "name": "stderr",
     "output_type": "stream",
     "text": [
      "C:\\Users\\Prabodh\\Anaconda2\\envs\\tensorflow\\lib\\site-packages\\ipykernel_launcher.py:5: FutureWarning: how in .resample() is deprecated\n",
      "the new syntax is .resample(...).count()\n",
      "  \"\"\"\n",
      "C:\\Users\\Prabodh\\Anaconda2\\envs\\tensorflow\\lib\\site-packages\\ipykernel_launcher.py:6: FutureWarning: pd.rolling_mean is deprecated for DataFrame and will be removed in a future version, replace with \n",
      "\tDataFrame.rolling(window=7,center=False).mean()\n",
      "  \n"
     ]
    },
    {
     "data": {
      "text/plain": [
       "<matplotlib.axes._subplots.AxesSubplot at 0x2cd6483e1d0>"
      ]
     },
     "execution_count": 71,
     "metadata": {},
     "output_type": "execute_result"
    },
    {
     "data": {
      "image/png": "[encoded data removed]",
      "text/plain": [
       "<Figure size 576x360 with 1 Axes>"
      ]
     },
     "metadata": {},
     "output_type": "display_data"
    }
   ],
   "source": [
    "from scipy import interpolate\n",
    "import seaborn as sns\n",
    "\n",
    "df.time = pd.to_datetime(df.time)\n",
    "perhr = df.set_index(df['time']).resample('D', how='count')\n",
    "pd.rolling_mean(perhr, window=7).tweets['2016-01-01':].plot()"
   ]
  },
  {
   "cell_type": "code",
   "execution_count": 72,
   "metadata": {
    "_cell_guid": "a9d755a3-938b-4173-81ac-f9efc11a9294"
   },
   "outputs": [
    {
     "name": "stderr",
     "output_type": "stream",
     "text": [
      "C:\\Users\\Prabodh\\Anaconda2\\envs\\tensorflow\\lib\\site-packages\\ipykernel_launcher.py:4: FutureWarning: pd.rolling_mean is deprecated for DataFrame and will be removed in a future version, replace with \n",
      "\tDataFrame.rolling(window=7,center=False).mean()\n",
      "  after removing the cwd from sys.path.\n"
     ]
    },
    {
     "data": {
      "image/png": "[encoded data removed]",
      "text/plain": [
       "<Figure size 1440x576 with 1 Axes>"
      ]
     },
     "metadata": {},
     "output_type": "display_data"
    }
   ],
   "source": [
    "fig, ax = plt.subplots(figsize = (20,8))\n",
    "\n",
    "perhr['2016-01-01':].numberstatuses.interpolate(method='linear').plot(ax = ax, color=\"black\", fontsize=12, alpha=0.1)\n",
    "pd.rolling_mean(perhr, window=7).tweets['2016-01-01':].plot(color ='r')\n",
    "\n",
    "#sns.timeseries(perhr, ax=ax)\n",
    "\n",
    "yemen = '2016-01-29'\n",
    "brussels = '2016-03-22'\n",
    "\n",
    "\n",
    "ax.annotate('Bombing in Brussels',xy=(brussels, 200),xytext=('2016-03-03', 310),\n",
    "            arrowprops=dict(facecolor='white', shrink=0.05), size=15)\n",
    "\n",
    "ax.annotate('Car bombing in Yemen',xy=(yemen, 200),xytext=('2016-01-10', 310),\n",
    "            arrowprops=dict(facecolor='white', shrink=0.05),size=15)\n",
    "\n",
    "ax.margins(None,0.1)\n",
    "ax.legend(['Tweets Per Day','7-Day Rolling Average'], loc = 'upper right',\n",
    "           numpoints = 1, labelspacing = 2.0, fontsize = 14)\n",
    "ax.set_xlabel('Date')\n",
    "ax.set_ylabel('Number of Tweets')\n",
    "ax.set_title('Frequency of ISIS Tweets in 2016')\n",
    "\n",
    "# ax.spines['bottom'].set_color('w')\n",
    "# ax.spines['top'].set_color('w') \n",
    "# ax.spines['right'].set_color('w')\n",
    "# ax.spines['left'].set_color('w')\n",
    "\n",
    "# ax.tick_params(axis='x', colors='w')\n",
    "# ax.tick_params(axis='y', colors='w')\n",
    "\n",
    "# ax.yaxis.label.set_color('w')\n",
    "# ax.xaxis.label.set_color('w')\n",
    "\n",
    "# ax.set_axis_bgcolor('w')\n",
    "fig.savefig('temp.png')\n",
    "plt.show()"
   ]
  },
  {
   "cell_type": "code",
   "execution_count": null,
   "metadata": {},
   "outputs": [],
   "source": []
  },
  {
   "cell_type": "code",
   "execution_count": null,
   "metadata": {},
   "outputs": [],
   "source": []
  }
 ],
 "metadata": {
  "_change_revision": 0,
  "_is_fork": false,
  "kernelspec": {
   "display_name": "Python 3",
   "language": "python",
   "name": "python3"
  },
  "language_info": {
   "codemirror_mode": {
    "name": "ipython",
    "version": 3
   },
   "file_extension": ".py",
   "mimetype": "text/x-python",
   "name": "python",
   "nbconvert_exporter": "python",
   "pygments_lexer": "ipython3",
   "version": "3.5.4"
  }
 },
 "nbformat": 4,
 "nbformat_minor": 1
}
