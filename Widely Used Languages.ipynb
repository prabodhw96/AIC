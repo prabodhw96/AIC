{
 "cells": [
  {
   "cell_type": "markdown",
   "metadata": {},
   "source": [
    "# Widely Used Languages by ISIS"
   ]
  },
  {
   "cell_type": "code",
   "execution_count": 2,
   "metadata": {},
   "outputs": [],
   "source": [
    "import numpy as np\n",
    "import pandas as pd\n",
    "import matplotlib.pyplot as plt\n",
    "import seaborn as sns\n",
    "import langid"
   ]
  },
  {
   "cell_type": "code",
   "execution_count": 3,
   "metadata": {},
   "outputs": [
    {
     "data": {
      "text/html": [
       "<div>\n",
       "<style scoped>\n",
       "    .dataframe tbody tr th:only-of-type {\n",
       "        vertical-align: middle;\n",
       "    }\n",
       "\n",
       "    .dataframe tbody tr th {\n",
       "        vertical-align: top;\n",
       "    }\n",
       "\n",
       "    .dataframe thead th {\n",
       "        text-align: right;\n",
       "    }\n",
       "</style>\n",
       "<table border=\"1\" class=\"dataframe\">\n",
       "  <thead>\n",
       "    <tr style=\"text-align: right;\">\n",
       "      <th></th>\n",
       "      <th>name</th>\n",
       "      <th>username</th>\n",
       "      <th>description</th>\n",
       "      <th>location</th>\n",
       "      <th>followers</th>\n",
       "      <th>numberstatuses</th>\n",
       "      <th>time</th>\n",
       "      <th>tweets</th>\n",
       "    </tr>\n",
       "  </thead>\n",
       "  <tbody>\n",
       "    <tr>\n",
       "      <th>0</th>\n",
       "      <td>GunsandCoffee</td>\n",
       "      <td>GunsandCoffee70</td>\n",
       "      <td>ENGLISH TRANSLATIONS: http://t.co/QLdJ0ftews</td>\n",
       "      <td>NaN</td>\n",
       "      <td>640</td>\n",
       "      <td>49</td>\n",
       "      <td>1/6/2015 21:07</td>\n",
       "      <td>ENGLISH TRANSLATION: 'A MESSAGE TO THE TRUTHFU...</td>\n",
       "    </tr>\n",
       "    <tr>\n",
       "      <th>1</th>\n",
       "      <td>GunsandCoffee</td>\n",
       "      <td>GunsandCoffee70</td>\n",
       "      <td>ENGLISH TRANSLATIONS: http://t.co/QLdJ0ftews</td>\n",
       "      <td>NaN</td>\n",
       "      <td>640</td>\n",
       "      <td>49</td>\n",
       "      <td>1/6/2015 21:27</td>\n",
       "      <td>ENGLISH TRANSLATION: SHEIKH FATIH AL JAWLANI '...</td>\n",
       "    </tr>\n",
       "    <tr>\n",
       "      <th>2</th>\n",
       "      <td>GunsandCoffee</td>\n",
       "      <td>GunsandCoffee70</td>\n",
       "      <td>ENGLISH TRANSLATIONS: http://t.co/QLdJ0ftews</td>\n",
       "      <td>NaN</td>\n",
       "      <td>640</td>\n",
       "      <td>49</td>\n",
       "      <td>1/6/2015 21:29</td>\n",
       "      <td>ENGLISH TRANSLATION: FIRST AUDIO MEETING WITH ...</td>\n",
       "    </tr>\n",
       "    <tr>\n",
       "      <th>3</th>\n",
       "      <td>GunsandCoffee</td>\n",
       "      <td>GunsandCoffee70</td>\n",
       "      <td>ENGLISH TRANSLATIONS: http://t.co/QLdJ0ftews</td>\n",
       "      <td>NaN</td>\n",
       "      <td>640</td>\n",
       "      <td>49</td>\n",
       "      <td>1/6/2015 21:37</td>\n",
       "      <td>ENGLISH TRANSLATION: SHEIKH NASIR AL WUHAYSHI ...</td>\n",
       "    </tr>\n",
       "    <tr>\n",
       "      <th>4</th>\n",
       "      <td>GunsandCoffee</td>\n",
       "      <td>GunsandCoffee70</td>\n",
       "      <td>ENGLISH TRANSLATIONS: http://t.co/QLdJ0ftews</td>\n",
       "      <td>NaN</td>\n",
       "      <td>640</td>\n",
       "      <td>49</td>\n",
       "      <td>1/6/2015 21:45</td>\n",
       "      <td>ENGLISH TRANSLATION: AQAP: 'RESPONSE TO SHEIKH...</td>\n",
       "    </tr>\n",
       "  </tbody>\n",
       "</table>\n",
       "</div>"
      ],
      "text/plain": [
       "            name         username  \\\n",
       "0  GunsandCoffee  GunsandCoffee70   \n",
       "1  GunsandCoffee  GunsandCoffee70   \n",
       "2  GunsandCoffee  GunsandCoffee70   \n",
       "3  GunsandCoffee  GunsandCoffee70   \n",
       "4  GunsandCoffee  GunsandCoffee70   \n",
       "\n",
       "                                    description location  followers  \\\n",
       "0  ENGLISH TRANSLATIONS: http://t.co/QLdJ0ftews      NaN        640   \n",
       "1  ENGLISH TRANSLATIONS: http://t.co/QLdJ0ftews      NaN        640   \n",
       "2  ENGLISH TRANSLATIONS: http://t.co/QLdJ0ftews      NaN        640   \n",
       "3  ENGLISH TRANSLATIONS: http://t.co/QLdJ0ftews      NaN        640   \n",
       "4  ENGLISH TRANSLATIONS: http://t.co/QLdJ0ftews      NaN        640   \n",
       "\n",
       "   numberstatuses            time  \\\n",
       "0              49  1/6/2015 21:07   \n",
       "1              49  1/6/2015 21:27   \n",
       "2              49  1/6/2015 21:29   \n",
       "3              49  1/6/2015 21:37   \n",
       "4              49  1/6/2015 21:45   \n",
       "\n",
       "                                              tweets  \n",
       "0  ENGLISH TRANSLATION: 'A MESSAGE TO THE TRUTHFU...  \n",
       "1  ENGLISH TRANSLATION: SHEIKH FATIH AL JAWLANI '...  \n",
       "2  ENGLISH TRANSLATION: FIRST AUDIO MEETING WITH ...  \n",
       "3  ENGLISH TRANSLATION: SHEIKH NASIR AL WUHAYSHI ...  \n",
       "4  ENGLISH TRANSLATION: AQAP: 'RESPONSE TO SHEIKH...  "
      ]
     },
     "execution_count": 3,
     "metadata": {},
     "output_type": "execute_result"
    }
   ],
   "source": [
    "df = pd.read_csv('input/tweets.csv')\n",
    "df.head()"
   ]
  },
  {
   "cell_type": "code",
   "execution_count": 5,
   "metadata": {},
   "outputs": [
    {
     "name": "stdout",
     "output_type": "stream",
     "text": [
      "en    14556\n",
      "ar      742\n",
      "fr      610\n",
      "ms      198\n",
      "id      182\n",
      "la       85\n",
      "sw       78\n",
      "de       75\n",
      "es       64\n",
      "nl       57\n",
      "Name: language, dtype: int64\n"
     ]
    }
   ],
   "source": [
    "pred_lang = [langid.classify(tweet) for tweet in df['tweets']]\n",
    "lang_df = pd.DataFrame(pred_lang, columns=['language','value'])\n",
    "print(lang_df['language'].value_counts().head(10))"
   ]
  },
  {
   "cell_type": "code",
   "execution_count": 6,
   "metadata": {},
   "outputs": [
    {
     "data": {
      "image/png": "[encoded data removed]",
      "text/plain": [
       "<Figure size 864x648 with 1 Axes>"
      ]
     },
     "metadata": {},
     "output_type": "display_data"
    }
   ],
   "source": [
    "plt.style.use('ggplot')\n",
    "colors=sns.color_palette('hls', 10) \n",
    "pd.Series(lang_df['language']).value_counts().head(10).plot(kind = \"bar\",\n",
    "                                                        figsize=(12,9),\n",
    "                                                        color=colors,\n",
    "                                                        fontsize=14,\n",
    "                                                        rot=45,\n",
    "                                                        title = \"Top 10 Widely Used Languages by ISIS\")\n",
    "plt.show()"
   ]
  },
  {
   "cell_type": "markdown",
   "metadata": {},
   "source": [
    "### Top 10 Widely Used Languages by ISIS:\n",
    "* English\n",
    "* Arabic\n",
    "* French\n",
    "* Malay\n",
    "* Indonesian\n",
    "* Latin (perplexed)\n",
    "* Swahili\n",
    "* German\n",
    "* Spanish\n",
    "* Dutch"
   ]
  },
  {
   "cell_type": "code",
   "execution_count": null,
   "metadata": {},
   "outputs": [],
   "source": []
  }
 ],
 "metadata": {
  "kernelspec": {
   "display_name": "Python 3",
   "language": "python",
   "name": "python3"
  },
  "language_info": {
   "codemirror_mode": {
    "name": "ipython",
    "version": 3
   },
   "file_extension": ".py",
   "mimetype": "text/x-python",
   "name": "python",
   "nbconvert_exporter": "python",
   "pygments_lexer": "ipython3",
   "version": "3.5.4"
  }
 },
 "nbformat": 4,
 "nbformat_minor": 2
}
